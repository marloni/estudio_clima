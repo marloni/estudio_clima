{
 "cells": [
  {
   "cell_type": "code",
   "execution_count": 1,
   "id": "435ae57c",
   "metadata": {},
   "outputs": [],
   "source": [
    "# Import the csv module\n",
    "import csv\n",
    "import sqlite3\n",
    "import pandas as pd  # Para trabajar con dataframes\n",
    "import numpy as np  # Para trabajar con matrices\n",
    "import matplotlib.pyplot as plt  # Para trabajar con gráficos\n",
    "import seaborn as sns  # Para trabajar con gráficos"
   ]
  },
  {
   "cell_type": "code",
   "execution_count": 2,
   "id": "6b858426",
   "metadata": {},
   "outputs": [],
   "source": [
    "\"\"\" Cargar datos de un archivo csv a una base de datos sqlite3 \"\"\"\n",
    "# Carga y resúmenes de datos\n",
    "\n",
    "\n",
    "def subir_csv(archivo_csv):\n",
    "    \"\"\"\n",
    "    Carga los datos de un archivo csv a una base de datos sqlite3\n",
    "    \"\"\"\n",
    "    # Carga los datos del archivo csv\n",
    "    df = pd.read_csv(archivo_csv)\n",
    "    # cambia el nombre de las columnas a minusculas y sustituye espacios por guiones\n",
    "    for col in df.columns:\n",
    "        df.rename(columns={col: col.lower().replace(\" \", \"_\")}, inplace=True)\n",
    "    # conecta a la base de datos\n",
    "    conn = sqlite3.connect(\"db.sqlite3\")\n",
    "    # carga los datos a la base de datos\n",
    "    df.to_sql(\"db.sqlite3\", conn, if_exists=\"replace\")\n",
    "    # cierra la conexión\n",
    "    conn.close()\n"
   ]
  },
  {
   "cell_type": "code",
   "execution_count": 3,
   "id": "fb8fa839",
   "metadata": {},
   "outputs": [
    {
     "name": "stdout",
     "output_type": "stream",
     "text": [
      "               Year           Seq  Aid Contribution  Dis Mag Value  \\\n",
      "count  16126.000000  16126.000000      6.770000e+02   4.946000e+03   \n",
      "mean    1996.764790    714.784820      1.254136e+05   4.735038e+04   \n",
      "std       20.159065   1929.635089      2.997875e+06   3.094242e+05   \n",
      "min     1900.000000      1.000000      1.000000e+00  -5.700000e+01   \n",
      "25%     1989.000000     93.000000      1.750000e+02   7.000000e+00   \n",
      "50%     2001.000000    270.000000      7.210000e+02   1.515000e+02   \n",
      "75%     2011.000000    486.000000      3.511000e+03   1.129650e+04   \n",
      "max     2021.000000   9881.000000      7.800000e+07   1.302587e+07   \n",
      "\n",
      "        Start Year   Start Month     Start Day      End Year     End Month  \\\n",
      "count  16126.00000  15739.000000  12498.000000  16126.000000  15418.000000   \n",
      "mean    1996.77837      6.444374     15.233957   1996.835607      6.576728   \n",
      "std       20.15571      3.393965      8.953821     20.143010      3.352965   \n",
      "min     1900.00000      1.000000      1.000000   1900.000000      1.000000   \n",
      "25%     1989.00000      4.000000      7.000000   1989.000000      4.000000   \n",
      "50%     2001.00000      7.000000     15.000000   2001.000000      7.000000   \n",
      "75%     2011.00000      9.000000     23.000000   2011.000000      9.000000   \n",
      "max     2021.00000     12.000000     31.000000   2021.000000     12.000000   \n",
      "\n",
      "            End Day  Total Deaths    No Injured   No Affected   No Homeless  \\\n",
      "count  12570.000000  1.141300e+04  3.895000e+03  9.220000e+03  2.430000e+03   \n",
      "mean      15.775020  2.842866e+03  2.621102e+03  8.823612e+05  7.329314e+04   \n",
      "std        8.865486  6.860595e+04  3.440343e+04  8.573913e+06  5.230058e+05   \n",
      "min        1.000000  1.000000e+00  1.000000e+00  1.000000e+00  3.000000e+00   \n",
      "25%        8.000000  6.000000e+00  1.400000e+01  1.244750e+03  5.725000e+02   \n",
      "50%       16.000000  2.000000e+01  5.000000e+01  1.000000e+04  3.000000e+03   \n",
      "75%       23.000000  6.300000e+01  2.000000e+02  9.182300e+04  1.750000e+04   \n",
      "max       31.000000  3.700000e+06  1.800000e+06  3.300000e+08  1.585000e+07   \n",
      "\n",
      "       Total Affected  Insured Damages ('000 US$)  Total Damages ('000 US$)  \\\n",
      "count    1.161700e+04                1.096000e+03              5.245000e+03   \n",
      "mean     7.165088e+05                7.986514e+05              7.247835e+05   \n",
      "std      7.718598e+06                3.057638e+06              4.723131e+06   \n",
      "min      1.000000e+00                3.400000e+01              2.000000e+00   \n",
      "25%      6.500000e+02                5.000000e+04              8.300000e+03   \n",
      "50%      5.965000e+03                1.725000e+05              6.000000e+04   \n",
      "75%      5.825500e+04                5.000000e+05              3.173000e+05   \n",
      "max      3.300000e+08                6.000000e+07              2.100000e+08   \n",
      "\n",
      "                CPI  \n",
      "count  15811.000000  \n",
      "mean      63.215103  \n",
      "std       26.734285  \n",
      "min        3.221647  \n",
      "25%       45.692897  \n",
      "50%       68.415379  \n",
      "75%       84.252733  \n",
      "max      100.000000  \n"
     ]
    }
   ],
   "source": [
    "def resumen_csv(archivo_csv):\n",
    "    \"\"\"\n",
    "    Muestra un resumen de los datos de un archivo csv\n",
    "    \"\"\"\n",
    "    # Carga los datos del archivo csv\n",
    "    df = pd.read_csv(archivo_csv)\n",
    "    \n",
    "    # muestra el resumen de los datos\n",
    "    print(df.describe())\n",
    "\n",
    "\n",
    "resumen_csv(\"data/1900_2021_DISASTERS.csv\")\n",
    "\n"
   ]
  },
  {
   "cell_type": "code",
   "execution_count": null,
   "id": "0a5fb1a4",
   "metadata": {},
   "outputs": [],
   "source": []
  }
 ],
 "metadata": {
  "kernelspec": {
   "display_name": "Python 3 (ipykernel)",
   "language": "python",
   "name": "python3"
  },
  "language_info": {
   "codemirror_mode": {
    "name": "ipython",
    "version": 3
   },
   "file_extension": ".py",
   "mimetype": "text/x-python",
   "name": "python",
   "nbconvert_exporter": "python",
   "pygments_lexer": "ipython3",
   "version": "3.9.7"
  }
 },
 "nbformat": 4,
 "nbformat_minor": 5
}
