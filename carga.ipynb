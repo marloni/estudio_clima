{
 "cells": [
  {
   "cell_type": "code",
   "execution_count": 1,
   "id": "ee7b951d",
   "metadata": {},
   "outputs": [
    {
     "data": {
      "text/plain": [
       "\" Here is the explanation for the code above:\\n1. This is a python script that converts a csv file to an sqlite3 database, \\n   using the csv module.\\n2. The csv file to be converted is in the same folder as this script.\\n3. The database will be named 'csv_to_sqlite.db'.\\n4. The csv file must use the same delimiter, quote, and escape character.\\n5. The csv file must have a header row.\\n6. The database will have the same table name as the csv file.\\n7. The database will have the same column names as the csv file.\\n8. The database will have the same column data types as the csv file.  CSV to SQLite \""
      ]
     },
     "execution_count": 1,
     "metadata": {},
     "output_type": "execute_result"
    }
   ],
   "source": [
    "\n",
    "\"\"\" Here is the explanation for the code above:\n",
    "1. This is a python script that converts a csv file to an sqlite3 database, \n",
    "   using the csv module.\n",
    "2. The csv file to be converted is in the same folder as this script.\n",
    "3. The database will be named 'csv_to_sqlite.db'.\n",
    "4. The csv file must use the same delimiter, quote, and escape character.\n",
    "5. The csv file must have a header row.\n",
    "6. The database will have the same table name as the csv file.\n",
    "7. The database will have the same column names as the csv file.\n",
    "8. The database will have the same column data types as the csv file. \"\"\"\"\"\" CSV to SQLite \"\"\""
   ]
  },
  {
   "cell_type": "code",
   "execution_count": 5,
   "id": "435ae57c",
   "metadata": {},
   "outputs": [],
   "source": [
    "# Import the csv module\n",
    "import csv\n",
    "import sqlite3\n",
    "import pandas as pd  # Para trabajar con dataframes\n",
    "import numpy as np  # Para trabajar con matrices\n",
    "import matplotlib.pyplot as plt  # Para trabajar con gráficos\n",
    "import seaborn as sns  # Para trabajar con gráficos\n",
    "\n"
   ]
  },
  {
   "cell_type": "code",
   "execution_count": 7,
   "id": "6b858426",
   "metadata": {},
   "outputs": [],
   "source": [
    "# Carga y resúmen de datos\n",
    "datos = pd.read_csv(\"/workspace/data/1900_2021_DISASTERS.csv\")  # Cargar datos\n",
    "# copy() para no modificar el original\n",
    "df = datos.copy()  # Create a database in RAM\n",
    "conn = sqlite3.connect(\":memory:\")"
   ]
  },
  {
   "cell_type": "code",
   "execution_count": null,
   "id": "45f69394",
   "metadata": {},
   "outputs": [],
   "source": []
  }
 ],
 "metadata": {
  "kernelspec": {
   "display_name": "Python 3 (ipykernel)",
   "language": "python",
   "name": "python3"
  },
  "language_info": {
   "codemirror_mode": {
    "name": "ipython",
    "version": 3
   },
   "file_extension": ".py",
   "mimetype": "text/x-python",
   "name": "python",
   "nbconvert_exporter": "python",
   "pygments_lexer": "ipython3",
   "version": "3.9.7"
  }
 },
 "nbformat": 4,
 "nbformat_minor": 5
}
