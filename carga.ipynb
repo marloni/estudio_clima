{
 "cells": [
  {
   "cell_type": "code",
   "execution_count": 70,
   "id": "435ae57c",
   "metadata": {},
   "outputs": [],
   "source": [
    "# Import the csv module\n",
    "import sqlite3\n",
    "import pandas as pd  # Para trabajar con dataframes\n",
    "import numpy as np  # Para trabajar con matrices\n",
    "import matplotlib.pyplot as plt  # Para trabajar con gráficos\n",
    "import seaborn as sns  # Para trabajar con gráficos"
   ]
  },
  {
   "cell_type": "code",
   "execution_count": 71,
   "id": "6b858426",
   "metadata": {},
   "outputs": [],
   "source": [
    "# Cargar desde un archivo csv a sqlite\n",
    "def cargar_csv_sql(archivo_csv):\n",
    "    \"\"\"Carga los datos de un archivo csv a una base de datos sqlite3\"\"\"\n",
    "    # Cargar los datos de un archivo csv a un dataframe\n",
    "    df = pd.read_csv(archivo_csv)\n",
    "    # Cambia los nombres de las columnas a minúsculas y sustituye los espacios por guiones bajos\n",
    "    df.columns = [x.lower().replace(' ', '_') for x in df.columns]\n",
    "    # conecta a la base de datos\n",
    "    conn = sqlite3.connect('db.sqlite3')\n",
    "    # carga los datos del dataframe a la base de datos\n",
    "    df.to_sql('datos', conn, if_exists='replace')\n",
    "    # cierra la conexión\n",
    "    conn.close()\n",
    "\n",
    "# cargar_csv_sql('data/1900_2021_DISASTERS.csv')"
   ]
  },
  {
   "cell_type": "code",
   "execution_count": 72,
   "id": "d960f82e",
   "metadata": {},
   "outputs": [],
   "source": [
    "# Cargar desde un sqlite3 a un dataframe\n",
    "def cargar_sql_df(tabla):\n",
    "    \"\"\"Carga los datos de una base de datos sqlite3 a un dataframe\"\"\"\n",
    "    # conecta a la base de datos\n",
    "    conn = sqlite3.connect(\"db.sqlite3\")\n",
    "    # carga los datos a un dataframe\n",
    "    df = pd.read_sql_query(\"SELECT * FROM \" + tabla, conn)\n",
    "    # cierra la conexión\n",
    "    conn.close()\n",
    "    return df\n",
    "\n",
    "# cargar_sql_df('datos')"
   ]
  },
  {
   "cell_type": "code",
   "execution_count": 73,
   "id": "79aaeff9",
   "metadata": {},
   "outputs": [],
   "source": [
    "def cargar_df_models(dataframe):\n",
    "    \"\"\"Carga dataframe a escribe en models.py\"\"\"\n",
    "    # cargar dataframe \n",
    "    df = dataframe\n",
    "    # sustituye los espacios por guiones bajos\n",
    "    # sustituye  los caracteres raros por guiones bajos\n",
    "    # sustituye  \"'\" por guiones bajos\n",
    "    df.columns = [x.lower().replace(' ', '').replace('-', '').replace(\"'\", '').replace(\"(\",\"\").replace(\")\",\"\").replace(\"_\",\"\").replace(\"$\",\"\") for x in df.columns]\n",
    "    # tipo de datos\n",
    "    df.dtypes\n",
    "    # escribe en models.py\n",
    "    with open('models.py', 'w') as f:\n",
    "        f.write('# -*- coding: utf-8 -*-\\n')\n",
    "        f.write('from django.db import models\\n')\n",
    "        f.write('\\n')\n",
    "        f.write('class ' + \"Datos\" + '(models.Model):\\n')\n",
    "        for col in df.columns:\n",
    "            if df[col].dtypes == 'object':\n",
    "                f.write('    ' + col + ' = models.CharField(max_length=255)\\n')\n",
    "            elif df[col].dtypes == 'int64':\n",
    "                f.write('    ' + col + ' = models.IntegerField()\\n')\n",
    "            elif df[col].dtypes == 'float64':\n",
    "                f.write('    ' + col + ' = models.FloatField()\\n')\n",
    "            else:\n",
    "                f.write('    ' + col + ' = models.CharField(max_length=255)\\n')\n",
    "        f.write('\\n')\n",
    "\n",
    "# cargar_df_models(cargar_sql_df('datos'))"
   ]
  }
 ],
 "metadata": {
  "kernelspec": {
   "display_name": "Python 3 (ipykernel)",
   "language": "python",
   "name": "python3"
  },
  "language_info": {
   "codemirror_mode": {
    "name": "ipython",
    "version": 3
   },
   "file_extension": ".py",
   "mimetype": "text/x-python",
   "name": "python",
   "nbconvert_exporter": "python",
   "pygments_lexer": "ipython3",
   "version": "3.9.7"
  }
 },
 "nbformat": 4,
 "nbformat_minor": 5
}
